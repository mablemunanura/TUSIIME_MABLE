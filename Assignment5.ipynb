{
 "cells": [
  {
   "cell_type": "code",
   "execution_count": 1,
   "id": "8f89d35a",
   "metadata": {},
   "outputs": [],
   "source": [
    "import pandas as pd\n",
    "import numpy as np\n",
    "import matplotlib.pyplot as plt\n",
    "import seaborn as sns"
   ]
  },
  {
   "cell_type": "code",
   "execution_count": null,
   "id": "86279ab4",
   "metadata": {},
   "outputs": [],
   "source": [
    "df = pd.read_csv('climate_action_data.csv')\n",
    "df.head()"
   ]
  },
  {
   "cell_type": "code",
   "execution_count": null,
   "id": "271345eb",
   "metadata": {},
   "outputs": [],
   "source": [
    "df.info()\n",
    "df.describe()"
   ]
  },
  {
   "cell_type": "code",
   "execution_count": null,
   "id": "2d2d757e",
   "metadata": {},
   "outputs": [],
   "source": [
    "#Dropping duplicate values\n",
    "df.duplicated().sum()\n",
    "df.drop_duplicates(inplace=True)"
   ]
  },
  {
   "cell_type": "code",
   "execution_count": null,
   "id": "908f20cc",
   "metadata": {},
   "outputs": [],
   "source": [
    "df.replace('error', np.nan, inplace=True)\n",
    "df.isnull().sum()"
   ]
  },
  {
   "cell_type": "code",
   "execution_count": null,
   "id": "f36b9683",
   "metadata": {},
   "outputs": [],
   "source": [
    "numeric_columns = ['Soil_Moisture(%)', 'Soil_pH', 'Temperature(C)', 'Humidity(%)', 'Fertilizer_Recommended(kg/ha)', 'Irrigation_Recommended(mm)']\n",
    "for col in numeric_columns:\n",
    "    #df[col] = pd.to_numeric(df[col], errors='coerce')\n",
    "    df[col] = df[col].astype(float)\n",
    "\n",
    "print(df.info())\n",
    "\n",
    "# Replace NaN with median for each numeric column\n",
    "for col in numeric_columns:\n",
    "    median_value = df[col].median()\n",
    "    df.fillna({col: median_value}, inplace=True)\n",
    "\n",
    "df[numeric_columns].isnull().sum()\n",
    "\n",
    "#Fill empty crop types with mode\n",
    "df['Crop_Type'] = df['Crop_Type'].fillna(df['Crop_Type'].mode()[0])\n"
   ]
  },
  {
   "cell_type": "code",
   "execution_count": null,
   "id": "44195f9d",
   "metadata": {},
   "outputs": [],
   "source": [
    "#Descriptive Statistics\n",
    "df.describe()\n",
    "\n",
    "#Histograms for Numeric Variables\n",
    "df[numeric_columns].hist(figsize=(12, 10), bins=20)\n",
    "plt.tight_layout()\n",
    "plt.show()\n",
    "\n",
    "#Correlation Heatmap\n",
    "plt.figure(figsize=(10, 8))\n",
    "sns.heatmap(df[numeric_columns].corr(), annot=True, cmap='coolwarm')\n",
    "plt.title('Correlation Heatmap')\n",
    "plt.show()"
   ]
  },
  {
   "cell_type": "code",
   "execution_count": null,
   "id": "0b9cbe37",
   "metadata": {},
   "outputs": [],
   "source": [
    "# Variables Most Influencing Fertilizer Recommendations\n",
    "if 'Fertilizer_Recommended(kg/ha)' in df.columns:\n",
    "    # Select only numeric columns\n",
    "    numeric_df = df.select_dtypes(include=['number'])\n",
    "    \n",
    "    # Compute correlations with Fertilizer_Recommended\n",
    "    corr_with_fertilizer = numeric_df.corr()['Fertilizer_Recommended(kg/ha)'].sort_values(ascending=False)\n",
    "    \n",
    "    # Display the result\n",
    "    print(\"Variables most influencing fertilizer recommendations:\")\n",
    "    print(corr_with_fertilizer)\n",
    "else:\n",
    "    print(\"Fertilizer_Recommended(kg/ha) column not found.\")\n",
    "\n",
    "# Top 5 influencing factors\n",
    "corr_with_fertilizer.drop('Fertilizer_Recommended(kg/ha)').head(5).plot(kind='barh')\n",
    "plt.xlabel('Correlation with Fertilizer Recommended (kg/ha)')\n",
    "plt.title('Top Factors Influencing Fertilizer Recommendation')\n",
    "plt.show()\n",
    "\n",
    "\n",
    "# Crop Type with Highest Average Soil Moisture\n",
    "if 'Crop_Type' in df.columns and 'Soil_Moisture(%)' in df.columns:\n",
    "    avg_moisture = df.groupby('Crop_Type')['Soil_Moisture(%)'].mean().sort_values(ascending=False)\n",
    "    print(\"Crop with highest average soil moisture:\")\n",
    "    print(avg_moisture.head(1))\n",
    "\n",
    "# Irrigation Adjustment for Crops with Average Temperatures > 30°C\n",
    "if 'Temperature(C)' in df.columns and 'Crop_Type' in df.columns:\n",
    "    high_temp_crops = df[df['Temperature(C)'] > 30].groupby('Crop_Type')['Temperature(C)'].mean()\n",
    "    print(\"Crops experiencing average temperatures above 30°C:\")\n",
    "    print(high_temp_crops)\n"
   ]
  },
  {
   "cell_type": "code",
   "execution_count": null,
   "id": "282790fc",
   "metadata": {},
   "outputs": [],
   "source": [
    "df.to_csv('cleaned_precision_agriculture_data.csv', index=False)\n",
    "print(\"Cleaned data exported successfully.\")\n",
    "\n",
    "print(df.isnull().sum())"
   ]
  }
 ],
 "metadata": {
  "kernelspec": {
   "display_name": "Python 3",
   "language": "python",
   "name": "python3"
  },
  "language_info": {
   "codemirror_mode": {
    "name": "ipython",
    "version": 3
   },
   "file_extension": ".py",
   "mimetype": "text/x-python",
   "name": "python",
   "nbconvert_exporter": "python",
   "pygments_lexer": "ipython3",
   "version": "3.12.10"
  }
 },
 "nbformat": 4,
 "nbformat_minor": 5
}
